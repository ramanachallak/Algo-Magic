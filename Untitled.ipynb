{
 "cells": [
  {
   "cell_type": "code",
   "execution_count": 18,
   "id": "7831bab0-bb25-4cc4-99ee-5b0ad307dce5",
   "metadata": {},
   "outputs": [],
   "source": [
    "import numpy as np \n",
    "import pandas as pd \n",
    "\n",
    "import hvplot.pandas\n",
    "import matplotlib.pyplot as plt\n",
    "import seaborn as sns\n",
    "sns.set()\n",
    "\n",
    "from pandas.plotting import lag_plot\n",
    "from datetime import datetime\n",
    "\n",
    "# from statsmodels.tsa.arima.model import ARIMA\n",
    "import pmdarima as pm\n",
    "import statsmodels.api as sm\n",
    "\n",
    "from sklearn.metrics import mean_squared_error\n",
    "from pandas_datareader import data\n",
    "\n",
    "from tensorflow.keras.models import Sequential\n",
    "from tensorflow.keras.layers import LSTM, Dense, Dropout"
   ]
  },
  {
   "cell_type": "code",
   "execution_count": 19,
   "id": "80778185-a32c-4452-afd8-2f54ab23418a",
   "metadata": {},
   "outputs": [],
   "source": [
    "START_DATE = '2020-01-01'\n",
    "END_DATE = '2020-12-31'\n",
    "# ASSETS = ['FB', 'TSLA',  'MSFT','AAPL','GOOGL']\n",
    "ASSETS = ['TSLA']\n",
    "n_assets = len(ASSETS)"
   ]
  },
  {
   "cell_type": "code",
   "execution_count": 20,
   "id": "1193525d-216c-416a-8814-cb3589535a47",
   "metadata": {},
   "outputs": [
    {
     "data": {
      "text/html": [
       "<div>\n",
       "<style scoped>\n",
       "    .dataframe tbody tr th:only-of-type {\n",
       "        vertical-align: middle;\n",
       "    }\n",
       "\n",
       "    .dataframe tbody tr th {\n",
       "        vertical-align: top;\n",
       "    }\n",
       "\n",
       "    .dataframe thead tr th {\n",
       "        text-align: left;\n",
       "    }\n",
       "\n",
       "    .dataframe thead tr:last-of-type th {\n",
       "        text-align: right;\n",
       "    }\n",
       "</style>\n",
       "<table border=\"1\" class=\"dataframe\">\n",
       "  <thead>\n",
       "    <tr>\n",
       "      <th>Attributes</th>\n",
       "      <th>Adj Close</th>\n",
       "      <th>Close</th>\n",
       "      <th>High</th>\n",
       "      <th>Low</th>\n",
       "      <th>Open</th>\n",
       "      <th>Volume</th>\n",
       "    </tr>\n",
       "    <tr>\n",
       "      <th>Symbols</th>\n",
       "      <th>TSLA</th>\n",
       "      <th>TSLA</th>\n",
       "      <th>TSLA</th>\n",
       "      <th>TSLA</th>\n",
       "      <th>TSLA</th>\n",
       "      <th>TSLA</th>\n",
       "    </tr>\n",
       "    <tr>\n",
       "      <th>Date</th>\n",
       "      <th></th>\n",
       "      <th></th>\n",
       "      <th></th>\n",
       "      <th></th>\n",
       "      <th></th>\n",
       "      <th></th>\n",
       "    </tr>\n",
       "  </thead>\n",
       "  <tbody>\n",
       "    <tr>\n",
       "      <th>2020-01-02</th>\n",
       "      <td>86.052002</td>\n",
       "      <td>86.052002</td>\n",
       "      <td>86.139999</td>\n",
       "      <td>84.342003</td>\n",
       "      <td>84.900002</td>\n",
       "      <td>47660500.0</td>\n",
       "    </tr>\n",
       "    <tr>\n",
       "      <th>2020-01-03</th>\n",
       "      <td>88.601997</td>\n",
       "      <td>88.601997</td>\n",
       "      <td>90.800003</td>\n",
       "      <td>87.384003</td>\n",
       "      <td>88.099998</td>\n",
       "      <td>88892500.0</td>\n",
       "    </tr>\n",
       "    <tr>\n",
       "      <th>2020-01-06</th>\n",
       "      <td>90.307999</td>\n",
       "      <td>90.307999</td>\n",
       "      <td>90.311996</td>\n",
       "      <td>88.000000</td>\n",
       "      <td>88.094002</td>\n",
       "      <td>50665000.0</td>\n",
       "    </tr>\n",
       "    <tr>\n",
       "      <th>2020-01-07</th>\n",
       "      <td>93.811996</td>\n",
       "      <td>93.811996</td>\n",
       "      <td>94.325996</td>\n",
       "      <td>90.671997</td>\n",
       "      <td>92.279999</td>\n",
       "      <td>89410500.0</td>\n",
       "    </tr>\n",
       "    <tr>\n",
       "      <th>2020-01-08</th>\n",
       "      <td>98.428001</td>\n",
       "      <td>98.428001</td>\n",
       "      <td>99.697998</td>\n",
       "      <td>93.646004</td>\n",
       "      <td>94.739998</td>\n",
       "      <td>155721500.0</td>\n",
       "    </tr>\n",
       "  </tbody>\n",
       "</table>\n",
       "</div>"
      ],
      "text/plain": [
       "Attributes  Adj Close      Close       High        Low       Open       Volume\n",
       "Symbols          TSLA       TSLA       TSLA       TSLA       TSLA         TSLA\n",
       "Date                                                                          \n",
       "2020-01-02  86.052002  86.052002  86.139999  84.342003  84.900002   47660500.0\n",
       "2020-01-03  88.601997  88.601997  90.800003  87.384003  88.099998   88892500.0\n",
       "2020-01-06  90.307999  90.307999  90.311996  88.000000  88.094002   50665000.0\n",
       "2020-01-07  93.811996  93.811996  94.325996  90.671997  92.279999   89410500.0\n",
       "2020-01-08  98.428001  98.428001  99.697998  93.646004  94.739998  155721500.0"
      ]
     },
     "execution_count": 20,
     "metadata": {},
     "output_type": "execute_result"
    }
   ],
   "source": [
    "df = data.DataReader(ASSETS, \n",
    "                     'yahoo', \n",
    "                     start=START_DATE, \n",
    "                     end=END_DATE)\n",
    "df.head()"
   ]
  },
  {
   "cell_type": "code",
   "execution_count": 21,
   "id": "463126e2-9cf3-4541-90d3-6ff354b0c8d4",
   "metadata": {},
   "outputs": [
    {
     "data": {
      "text/html": [
       "<div>\n",
       "<style scoped>\n",
       "    .dataframe tbody tr th:only-of-type {\n",
       "        vertical-align: middle;\n",
       "    }\n",
       "\n",
       "    .dataframe tbody tr th {\n",
       "        vertical-align: top;\n",
       "    }\n",
       "\n",
       "    .dataframe thead th {\n",
       "        text-align: right;\n",
       "    }\n",
       "</style>\n",
       "<table border=\"1\" class=\"dataframe\">\n",
       "  <thead>\n",
       "    <tr style=\"text-align: right;\">\n",
       "      <th>Symbols</th>\n",
       "      <th>TSLA</th>\n",
       "    </tr>\n",
       "    <tr>\n",
       "      <th>Date</th>\n",
       "      <th></th>\n",
       "    </tr>\n",
       "  </thead>\n",
       "  <tbody>\n",
       "    <tr>\n",
       "      <th>2020-01-02</th>\n",
       "      <td>86.052002</td>\n",
       "    </tr>\n",
       "    <tr>\n",
       "      <th>2020-01-03</th>\n",
       "      <td>88.601997</td>\n",
       "    </tr>\n",
       "    <tr>\n",
       "      <th>2020-01-06</th>\n",
       "      <td>90.307999</td>\n",
       "    </tr>\n",
       "    <tr>\n",
       "      <th>2020-01-07</th>\n",
       "      <td>93.811996</td>\n",
       "    </tr>\n",
       "    <tr>\n",
       "      <th>2020-01-08</th>\n",
       "      <td>98.428001</td>\n",
       "    </tr>\n",
       "  </tbody>\n",
       "</table>\n",
       "</div>"
      ],
      "text/plain": [
       "Symbols          TSLA\n",
       "Date                 \n",
       "2020-01-02  86.052002\n",
       "2020-01-03  88.601997\n",
       "2020-01-06  90.307999\n",
       "2020-01-07  93.811996\n",
       "2020-01-08  98.428001"
      ]
     },
     "execution_count": 21,
     "metadata": {},
     "output_type": "execute_result"
    }
   ],
   "source": [
    "tesla = df['Adj Close']\n",
    "tesla.head()"
   ]
  },
  {
   "cell_type": "code",
   "execution_count": 22,
   "id": "ff572ac6-fdd1-48cc-bd4d-5dc6ffaab837",
   "metadata": {},
   "outputs": [],
   "source": [
    "def split_sequence(sequence, n_steps):\n",
    "\tX, y = list(), list()\n",
    "\tfor i in range(len(sequence)):\n",
    "\t\t# find the end of this pattern\n",
    "\t\tend_ix = i + n_steps\n",
    "\t\t# check if we are beyond the sequence\n",
    "\t\tif end_ix > len(sequence)-1:\n",
    "\t\t\tbreak\n",
    "\t\t# gather input and output parts of the pattern\n",
    "\t\tseq_x, seq_y = sequence[i:end_ix], sequence[end_ix]\n",
    "\t\tX.append(seq_x)\n",
    "\t\ty.append(seq_y)\n",
    "\treturn np.array(X), np.array(y)"
   ]
  },
  {
   "cell_type": "code",
   "execution_count": 23,
   "id": "b68d5679-bdb9-468f-9149-08fcb4d37155",
   "metadata": {},
   "outputs": [
    {
     "name": "stdout",
     "output_type": "stream",
     "text": [
      "[449.76000977 441.76000977] 423.42999267578125\n"
     ]
    }
   ],
   "source": [
    "# define input sequence\n",
    "# raw_seq = [10, 20, 30, 40, 50, 60, 70, 80, 90]\n",
    "# choose a number of time steps\n",
    "n_steps = 2\n",
    "# split into samples\n",
    "time_series = tesla.values.ravel()\n",
    "l = len(time_series)\n",
    "train_series = time_series[:int(0.7*l)]\n",
    "test_series = time_series[int(0.7*l):]\n",
    "X_train, y_train = split_sequence(train_series, n_steps)\n",
    "X_test, y_test = split_sequence(test_series, n_steps)\n",
    "# summarize the data\n",
    "for i in range(min(1, len(X_train))):\n",
    "\tprint(X_test[i], y_test[i])"
   ]
  },
  {
   "cell_type": "code",
   "execution_count": 35,
   "id": "2de594a9-1f3b-4797-88a8-57085d29206e",
   "metadata": {},
   "outputs": [],
   "source": [
    "# # define model\n",
    "# # n_steps=24\n",
    "n_features = 1\n",
    "# # X = X.reshape((X.shape[0], X.shape[1], n_features))\n",
    "\n",
    "# model = Sequential()\n",
    "# model.add(\n",
    "#     LSTM(50, \n",
    "#          activation='relu', \n",
    "#          input_shape=(n_steps, n_features)\n",
    "#         )\n",
    "# )\n",
    "# model.add(Dense(1))\n",
    "# model.compile(optimizer='adam', loss='mse')\n",
    "\n",
    "model = Sequential()\n",
    "\n",
    "# Initial model setup\n",
    "number_units = 50\n",
    "dropout_fraction = 0.2\n",
    "\n",
    "# Layer 1\n",
    "model.add(\n",
    "    LSTM(\n",
    "        units=number_units,\n",
    "        return_sequences=True,\n",
    "        input_shape=(n_steps, n_features)\n",
    "        #input_shape=(X_train.shape[1], 1)\n",
    "    )\n",
    ")\n",
    "model.add(\n",
    "    Dropout(\n",
    "        dropout_fraction\n",
    "    )\n",
    ")\n",
    "\n",
    "# Layer 2\n",
    "model.add(\n",
    "    LSTM(\n",
    "        units=number_units, \n",
    "        return_sequences=True\n",
    "    )\n",
    ")\n",
    "\n",
    "model.add(\n",
    "    Dropout(\n",
    "        dropout_fraction\n",
    "    )\n",
    ")\n",
    "\n",
    "# Layer 3\n",
    "model.add(\n",
    "    LSTM(\n",
    "        units=number_units\n",
    "    )\n",
    ")\n",
    "\n",
    "model.add(\n",
    "    Dropout(\n",
    "        dropout_fraction\n",
    "    )\n",
    ")\n",
    "\n",
    "# Output layer\n",
    "model.add(Dense(1))\n",
    "\n",
    "model.compile(optimizer='adam', loss='mse')"
   ]
  },
  {
   "cell_type": "code",
   "execution_count": 36,
   "id": "0c480834-e997-4bb6-b91f-24785c1d34be",
   "metadata": {},
   "outputs": [],
   "source": [
    "X_train = X_train.reshape((X_train.shape[0], X_train.shape[1], n_features))\n",
    "X_test = X_test.reshape((X_test.shape[0], X_test.shape[1], n_features))"
   ]
  },
  {
   "cell_type": "code",
   "execution_count": 37,
   "id": "2e9026ca-ca9d-4ca4-97e9-23ddc9d1510a",
   "metadata": {},
   "outputs": [
    {
     "data": {
      "text/plain": [
       "<keras.callbacks.History at 0x1782ccee0>"
      ]
     },
     "execution_count": 37,
     "metadata": {},
     "output_type": "execute_result"
    }
   ],
   "source": [
    "# fit model\n",
    "model.fit(X_train, y_train, epochs=200, verbose=0)"
   ]
  },
  {
   "cell_type": "code",
   "execution_count": 38,
   "id": "ff41d289-f7b6-4146-b0a4-5d9072182d00",
   "metadata": {},
   "outputs": [],
   "source": [
    "predictions = []\n",
    "\n",
    "for x in X_test:\n",
    "    x_input = np.array(x)\n",
    "    x_input = x_input.reshape((1, n_steps, n_features))\n",
    "    yhat = model.predict(x_input, verbose=0)\n",
    "    predictions.append(yhat.ravel()[0])"
   ]
  },
  {
   "cell_type": "code",
   "execution_count": 39,
   "id": "a60a3b66-3326-4a04-8bf3-68f6be1c4c31",
   "metadata": {},
   "outputs": [],
   "source": [
    "test_df = pd.DataFrame(y_test, columns=['actual'])\n",
    "test_df['predictions'] = predictions"
   ]
  },
  {
   "cell_type": "code",
   "execution_count": 40,
   "id": "8f958291-ffb0-42d7-8738-7be615308811",
   "metadata": {},
   "outputs": [
    {
     "data": {
      "text/plain": [
       "<AxesSubplot:>"
      ]
     },
     "execution_count": 40,
     "metadata": {},
     "output_type": "execute_result"
    },
    {
     "data": {
      "image/png": "[encoded data removed]",
      "text/plain": [
       "<Figure size 1440x1080 with 1 Axes>"
      ]
     },
     "metadata": {},
     "output_type": "display_data"
    }
   ],
   "source": [
    "test_df.plot(figsize=(20,15))"
   ]
  },
  {
   "cell_type": "code",
   "execution_count": 160,
   "id": "9cdfeb2c-3879-4f39-93ba-f59ad62b3c91",
   "metadata": {},
   "outputs": [
    {
     "data": {
      "text/plain": [
       "176.31517792648108"
      ]
     },
     "execution_count": 160,
     "metadata": {},
     "output_type": "execute_result"
    }
   ],
   "source": [
    "np.sqrt(np.sum((y_test - predictions)[2:-2]**2))"
   ]
  },
  {
   "cell_type": "code",
   "execution_count": null,
   "id": "4f0a0ff5-eab5-495a-b00a-4bac91080652",
   "metadata": {},
   "outputs": [],
   "source": []
  }
 ],
 "metadata": {
  "kernelspec": {
   "display_name": "mlenv310",
   "language": "python",
   "name": "mlenv310"
  },
  "language_info": {
   "codemirror_mode": {
    "name": "ipython",
    "version": 3
   },
   "file_extension": ".py",
   "mimetype": "text/x-python",
   "name": "python",
   "nbconvert_exporter": "python",
   "pygments_lexer": "ipython3",
   "version": "3.10.4"
  }
 },
 "nbformat": 4,
 "nbformat_minor": 5
}
